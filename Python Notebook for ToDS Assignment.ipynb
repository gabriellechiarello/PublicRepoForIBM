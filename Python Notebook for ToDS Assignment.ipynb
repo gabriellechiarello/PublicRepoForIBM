{
 "cells": [
  {
   "cell_type": "markdown",
   "metadata": {
    "collapsed": true
   },
   "source": [
    "# My Jupyter Notebook on IBM Watson Studio"
   ]
  },
  {
   "cell_type": "markdown",
   "metadata": {},
   "source": [
    "__Gabrielle Chiarello__\n",
    "\n",
    "Data Analyst"
   ]
  },
  {
   "cell_type": "markdown",
   "metadata": {},
   "source": [
    "_I am interested in data science because I find coding and quantatative reasoning extremely fun_"
   ]
  },
  {
   "cell_type": "markdown",
   "metadata": {},
   "source": [
    "### In Cell 5, the code will print \"hello world\""
   ]
  },
  {
   "cell_type": "code",
   "execution_count": 7,
   "metadata": {},
   "outputs": [
    {
     "name": "stdout",
     "output_type": "stream",
     "text": [
      "hello world\n"
     ]
    }
   ],
   "source": [
    "print(\"hello world\")"
   ]
  },
  {
   "cell_type": "markdown",
   "metadata": {},
   "source": [
    "### My top three favorite birds\n",
    "___\n",
    "1. Snowy Plover\n",
    "2. Wilson's Snipe\n",
    "3. Lovebird\n",
    "![image of a snowy plover](http://t0.gstatic.com/licensed-image?q=tbn:ANd9GcSFui9xvVWA3yVnMKSy7PV3qhkWJ9yBv3Jb9809QSZ0kF-dMxVYq7T8Qvhz8XJ0PAmt0ucvCTBqd0JWmKA)\n",
    "![image of a wilson's snipe](http://t1.gstatic.com/licensed-image?q=tbn:ANd9GcStExJNh411c_oaaxiITLDHH8Nlnlc5vNxR8tANDBhCEf97MkGpAbqZ-5XnsgXWxb9GdzoL2ncywRzLmwE)\n",
    "![imageof a lovebird](http://t2.gstatic.com/licensed-image?q=tbn:ANd9GcTXwbxoxBuCkIAnISxsMsluQa5JIlnSXcyXqC9X0hYYdzJb0GU8BI3rg_BOeSkwYMywWQSbxgeUytAqiac)\n"
   ]
  },
  {
   "cell_type": "code",
   "execution_count": null,
   "metadata": {},
   "outputs": [],
   "source": []
  }
 ],
 "metadata": {
  "kernelspec": {
   "display_name": "Python 3.10",
   "language": "python",
   "name": "python3"
  },
  "language_info": {
   "codemirror_mode": {
    "name": "ipython",
    "version": 3
   },
   "file_extension": ".py",
   "mimetype": "text/x-python",
   "name": "python",
   "nbconvert_exporter": "python",
   "pygments_lexer": "ipython3",
   "version": "3.10.9"
  }
 },
 "nbformat": 4,
 "nbformat_minor": 1
}
