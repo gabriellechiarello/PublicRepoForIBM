{
 "cells": [
  {
   "cell_type": "markdown",
   "id": "366a3ba2-627b-4b17-b39a-5fe9fd0dcda3",
   "metadata": {},
   "source": [
    "# Data Science Tools and Ecosystem"
   ]
  },
  {
   "cell_type": "markdown",
   "id": "a127715e-18a1-4ea9-b800-e060d85730a4",
   "metadata": {},
   "source": [
    "## Author\n",
    "Gabrielle Chiarello"
   ]
  },
  {
   "cell_type": "markdown",
   "id": "73ba2c12-34b4-4e88-a1bc-2b9cfa5df7b3",
   "metadata": {},
   "source": [
    "Introduction: In this notebook, we will summarize Data Science Tools and Ecosystem"
   ]
  },
  {
   "cell_type": "markdown",
   "id": "2b9b85b3-951f-471b-92d9-9f79d3677660",
   "metadata": {},
   "source": [
    "**Objectives:**\n",
    "- Popular Data Science Languages\n",
    "- Popular Data Science Libraries\n",
    "- Common Data Science Tools\n",
    "- Simple Arithmetic Examples"
   ]
  },
  {
   "cell_type": "markdown",
   "id": "3eb31639-9494-42db-8518-a2abdc8438e7",
   "metadata": {},
   "source": [
    "Some of the popular languages that Data Scientsists use are:\n",
    "1. Python\n",
    "2. R\n",
    "3. SQL\n",
    "4. Scala\n",
    "5. Java\n",
    "6. C++"
   ]
  },
  {
   "cell_type": "markdown",
   "id": "ce920aa7-1cc2-4b4d-9e74-f3df01d52998",
   "metadata": {},
   "source": [
    "Some of the commonly used libraries used by Data Scientists are:\n",
    "1. Pandas\n",
    "2. NumPy\n",
    "3. TensorFlow\n",
    "4. Pytorch\n",
    "5. Keras"
   ]
  },
  {
   "cell_type": "markdown",
   "id": "c20c950d-f0c9-49ab-adbb-700cc0dc8980",
   "metadata": {},
   "source": [
    "| Data Science Tools |\n",
    "| --- |\n",
    "| Jupyter|\n",
    "| RStudio |\n",
    "| Spyder |"
   ]
  },
  {
   "cell_type": "markdown",
   "id": "edf83d3a-6845-4742-9c9f-93bd04098063",
   "metadata": {},
   "source": [
    "### Below are a few examples of arithmetic expressions in Python"
   ]
  },
  {
   "cell_type": "code",
   "execution_count": 4,
   "id": "ea85f5b5-8e3d-410d-a15d-49bd61cffb96",
   "metadata": {},
   "outputs": [
    {
     "data": {
      "text/plain": [
       "17"
      ]
     },
     "execution_count": 4,
     "metadata": {},
     "output_type": "execute_result"
    }
   ],
   "source": [
    "# This is a simple arithmetic expression to multiply and then add integers\n",
    "(3*4)+5"
   ]
  },
  {
   "cell_type": "code",
   "execution_count": 5,
   "id": "2f8b17eb-e6df-4567-a0fa-9f7680fefc75",
   "metadata": {},
   "outputs": [
    {
     "data": {
      "text/plain": [
       "3.3333333333333335"
      ]
     },
     "execution_count": 5,
     "metadata": {},
     "output_type": "execute_result"
    }
   ],
   "source": [
    "# This code cell will convert 200 minutes to hours by dividing by 60\n",
    "200/60"
   ]
  },
  {
   "cell_type": "code",
   "execution_count": null,
   "id": "25bcf305-24b2-42e4-a983-c51002afd3d3",
   "metadata": {},
   "outputs": [],
   "source": []
  }
 ],
 "metadata": {
  "kernelspec": {
   "display_name": "Python",
   "language": "python",
   "name": "conda-env-python-py"
  },
  "language_info": {
   "codemirror_mode": {
    "name": "ipython",
    "version": 3
   },
   "file_extension": ".py",
   "mimetype": "text/x-python",
   "name": "python",
   "nbconvert_exporter": "python",
   "pygments_lexer": "ipython3",
   "version": "3.7.12"
  }
 },
 "nbformat": 4,
 "nbformat_minor": 5
}
